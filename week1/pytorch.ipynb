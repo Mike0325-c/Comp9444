{
 "cells": [
  {
   "cell_type": "code",
   "execution_count": 1,
   "metadata": {},
   "outputs": [],
   "source": [
    "import torch"
   ]
  },
  {
   "cell_type": "code",
   "execution_count": 21,
   "metadata": {},
   "outputs": [
    {
     "name": "stdout",
     "output_type": "stream",
     "text": [
      "['In', 'the', 'loveliest', 'town', 'of', 'all,', 'where', 'the', 'houses', 'were', 'white', 'and', 'high', 'and', 'the', 'elms', 'trees', 'were', 'green', 'and', 'higher', 'than', 'the', 'houses,', 'where', 'the', 'front', 'yards', 'were', 'wide', 'and', 'pleasant', 'and', 'the', 'back', 'yards', 'were', 'bushy', 'and', 'worth', 'finding', 'out', 'about,', 'where', 'the', 'streets', 'sloped', 'down', 'to', 'the', 'stream', 'and', 'the', 'stream', 'flowed', 'quietly', 'under', 'the', 'bridge,', 'where', 'the', 'lawns', 'ended', 'in', 'orchards', 'and', 'the', 'orchards', 'ended', 'in', 'fields', 'and', 'the', 'fields', 'ended', 'in', 'pastures', 'and', 'the', 'pastures', 'climbed', 'the', 'hill', 'and', 'disappeared', 'over', 'the', 'top', 'toward', 'the', 'wonderful', 'wide', 'sky,', 'in', 'this', 'loveliest', 'of', 'all', 'towns', 'Stuart', 'stopped', 'to', 'get', 'a', 'drink', 'of', 'sarsaparilla.']\n",
      "4.49\n"
     ]
    }
   ],
   "source": [
    "import math\n",
    "sentence = \"In the loveliest town of all, where the houses were white and high and the elms trees were green and higher than the houses, where the front yards were wide and pleasant and the back yards were bushy and worth finding out about, where the streets sloped down to the stream and the stream flowed quietly under the bridge, where the lawns ended in orchards and the orchards ended in fields and the fields ended in pastures and the pastures climbed the hill and disappeared over the top toward the wonderful wide sky, in this loveliest of all towns Stuart stopped to get a drink of sarsaparilla.\"\n",
    "lista = sentence.split(' ')\n",
    "print(lista)\n",
    "sum = 0\n",
    "number = 0\n",
    "\n",
    "\n",
    "        \n",
    "for i in lista:\n",
    "    sum += len(i)\n",
    "    \n",
    "    number += 1\n",
    "\n",
    "for i in lista:\n",
    "    if ',' in i or '.' in i:\n",
    "        sum -= 1\n",
    "print(round(sum/number,2))\n",
    "    "
   ]
  },
  {
   "cell_type": "code",
   "execution_count": 20,
   "metadata": {},
   "outputs": [
    {
     "name": "stdout",
     "output_type": "stream",
     "text": [
      "['2543,4,4.34', '5463,7,8.31', '7765,10,1.23', '9833,9,34.12', '5056,4,5.67', '7657,10,4.23', '3343,7,2.98', '3778,9,9.27', '1118,5,8.23', '3873,3,4.45', '6588,2,5.67', '5778,6,3.41', '7765,11,2.23', '9343,8,4.12', '5057,5,4.67', '7657,5,4.23', '3356,7,4.98', '3776,8,8.27', '1228,5,7.23', '3873,2,4.50']\n",
      "898.64\n"
     ]
    }
   ],
   "source": [
    "import math\n",
    "sales = \"2543,4,4.34;5463,7,8.31;7765,10,1.23;9833,9,34.12;5056,4,5.67;7657,10,4.23;3343,7,2.98;3778,9,9.27;1118,5,8.23;3873,3,4.45;6588,2,5.67;5778,6,3.41;7765,11,2.23;9343,8,4.12;5057,5,4.67;7657,5,4.23;3356,7,4.98;3776,8,8.27;1228,5,7.23;3873,2,4.50\"\n",
    "sale_list = sales.split(';')\n",
    "\n",
    "print(sale_list)\n",
    "total = 0\n",
    "for i in sale_list:\n",
    "    list_item = i.split(',')\n",
    "    sum = float(list_item[1])* float(list_item[2])\n",
    "    total += sum\n",
    "    \n",
    "print(round(total,2))"
   ]
  },
  {
   "cell_type": "code",
   "execution_count": null,
   "metadata": {},
   "outputs": [],
   "source": []
  }
 ],
 "metadata": {
  "kernelspec": {
   "display_name": "Python 3",
   "language": "python",
   "name": "python3"
  },
  "language_info": {
   "codemirror_mode": {
    "name": "ipython",
    "version": 3
   },
   "file_extension": ".py",
   "mimetype": "text/x-python",
   "name": "python",
   "nbconvert_exporter": "python",
   "pygments_lexer": "ipython3",
   "version": "3.10.5"
  }
 },
 "nbformat": 4,
 "nbformat_minor": 2
}
